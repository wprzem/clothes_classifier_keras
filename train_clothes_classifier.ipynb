{
 "cells": [
  {
   "cell_type": "code",
   "execution_count": null,
   "id": "0b3c22a4",
   "metadata": {},
   "outputs": [],
   "source": [
    "!kaggle datasets download -d agrigorev/clothing-dataset-full"
   ]
  },
  {
   "cell_type": "code",
   "execution_count": null,
   "id": "fadf5db3",
   "metadata": {},
   "outputs": [],
   "source": [
    "!unzip clothing-dataset-full.zip"
   ]
  },
  {
   "cell_type": "code",
   "execution_count": null,
   "id": "ac684a45",
   "metadata": {},
   "outputs": [],
   "source": [
    "import pathlib\n",
    "import shutil\n",
    "import os\n",
    "import pandas as pd\n",
    "from tensorflow import keras\n",
    "from tensorflow.keras import layers\n",
    "from tensorflow.keras.preprocessing import image\n",
    "import numpy as np\n",
    "import json\n",
    "import matplotlib.pyplot as plt"
   ]
  },
  {
   "cell_type": "code",
   "execution_count": null,
   "id": "b69b9769",
   "metadata": {},
   "outputs": [],
   "source": [
    "df = pd.read_csv(\"images.csv\")\n",
    "\n",
    "# Drop few clasess for simplicity\n",
    "mask = df[\"label\"].isin([\"Not sure\", \"Other\", \"Blouse\", \"Top\", \"Skip\"])\n",
    "df = df.drop(df[mask].index)\n",
    "print(df.groupby(\"label\").count())\n",
    "\n",
    "labels = sorted(df[\"label\"].unique())\n",
    "labels = {id_: label for id_, label in enumerate(labels)}\n",
    "with open(\"labels.json\", \"w\") as file:\n",
    "    json.dump(labels, file)\n",
    "images = [(f\"{name}.jpg\", label) for name, label in zip(df[\"image\"], df[\"label\"])]"
   ]
  },
  {
   "cell_type": "code",
   "execution_count": null,
   "id": "982e6181",
   "metadata": {},
   "outputs": [],
   "source": [
    "old_folder = pathlib.Path(\"images_compressed\")\n",
    "new_folder = pathlib.Path(\"images_for_model\")\n",
    "for name, label in images:\n",
    "    target_folder = new_folder / label\n",
    "    if not os.path.exists(target_folder):\n",
    "        os.makedirs(target_folder)\n",
    "    shutil.copy(src=old_folder / name, dst=target_folder / name)"
   ]
  },
  {
   "cell_type": "code",
   "execution_count": null,
   "id": "6afffd53",
   "metadata": {},
   "outputs": [],
   "source": [
    "train_dataset = keras.utils.image_dataset_from_directory(\n",
    "    new_folder,\n",
    "    batch_size=32,\n",
    "    image_size=(180, 180),\n",
    "    validation_split=0.2,\n",
    "    subset=\"training\",\n",
    "    seed=1,\n",
    "    label_mode=\"categorical\"\n",
    ")\n",
    "\n",
    "val_dataset = keras.utils.image_dataset_from_directory(\n",
    "    new_folder,\n",
    "    batch_size=32,\n",
    "    image_size=(180, 180),\n",
    "    validation_split=0.2,\n",
    "    subset=\"validation\",\n",
    "    seed=1,\n",
    "    label_mode=\"categorical\"\n",
    ")"
   ]
  },
  {
   "cell_type": "code",
   "execution_count": null,
   "id": "e6740004",
   "metadata": {},
   "outputs": [],
   "source": [
    "conv_base = keras.applications.vgg16.VGG16(weights=\"imagenet\", include_top=False)\n",
    "conv_base.trainable = False\n",
    "\n",
    "data_augmentation = keras.Sequential(\n",
    "    [\n",
    "        keras.layers.RandomFlip(\"horizontal\"),\n",
    "        keras.layers.RandomZoom(0.2),\n",
    "        keras.layers.RandomRotation(0.1)\n",
    "    ]\n",
    ")\n",
    "\n",
    "inputs = keras.Input(shape=(180, 180, 3))\n",
    "x = data_augmentation(inputs)\n",
    "x = keras.applications.vgg16.preprocess_input(x)\n",
    "x = conv_base(x)\n",
    "x = keras.layers.Flatten()(x)\n",
    "x = keras.layers.Dense(256, activation=\"relu\")(x)\n",
    "x = keras.layers.Dropout(0.5)(x)\n",
    "outputs = keras.layers.Dense(15, activation=\"softmax\")(x)\n",
    "\n",
    "model = keras.Model(inputs=inputs, outputs=outputs)\n",
    "\n",
    "callbacks = [\n",
    "    keras.callbacks.ModelCheckpoint(\n",
    "        filepath=\"clothes_classifier_vgg16_with_augmentation.keras\",\n",
    "        save_best_only=True,\n",
    "        monitor=\"val_loss\"\n",
    "    )\n",
    "]\n",
    "\n",
    "model.compile(optimizer=\"rmsprop\", loss=\"categorical_crossentropy\", metrics=[\"accuracy\"])\n",
    "history = model.fit(\n",
    "    train_dataset,\n",
    "    batch_size=32,\n",
    "    epochs=15,\n",
    "    validation_data=val_dataset,\n",
    "    callbacks=callbacks)"
   ]
  },
  {
   "cell_type": "code",
   "execution_count": null,
   "id": "b982085f",
   "metadata": {},
   "outputs": [],
   "source": [
    "model = keras.models.load_model(\"clothes_classifier_vgg16_with_augmentation.keras\")\n",
    "\n",
    "vgg16 = model.get_layer(\"vgg16\")\n",
    "vgg16.get_layer(\"block5_conv1\").trainable = True\n",
    "vgg16.get_layer(\"block5_conv2\").trainable = True\n",
    "vgg16.get_layer(\"block5_conv3\").trainable = True\n",
    "\n",
    "callbacks = [\n",
    "    keras.callbacks.ModelCheckpoint(\n",
    "        filepath=\"clothes_classifier_vgg16_with_augmentation_and_fine_tuning.keras\",\n",
    "        save_best_only=True,\n",
    "        monitor=\"val_loss\"\n",
    "    )\n",
    "]\n",
    "\n",
    "model.compile(optimizer=keras.optimizers.RMSprop(learning_rate=1e-5),\n",
    "              loss=\"categorical_crossentropy\", metrics=[\"accuracy\"])\n",
    "history = model.fit(\n",
    "    train_dataset,\n",
    "    batch_size=32,\n",
    "    epochs=30,\n",
    "    validation_data=val_dataset,\n",
    "    callbacks=callbacks)"
   ]
  },
  {
   "cell_type": "code",
   "execution_count": null,
   "id": "996dabc8",
   "metadata": {},
   "outputs": [],
   "source": [
    "plt.plot(history.history[\"loss\"], label=\"loss\")\n",
    "plt.plot(history.history[\"val_loss\"], label=\"val_loss\")\n",
    "plt.legend()\n",
    "plt.show()"
   ]
  }
 ],
 "metadata": {
  "kernelspec": {
   "display_name": "Python 3 (ipykernel)",
   "language": "python",
   "name": "python3"
  },
  "language_info": {
   "codemirror_mode": {
    "name": "ipython",
    "version": 3
   },
   "file_extension": ".py",
   "mimetype": "text/x-python",
   "name": "python",
   "nbconvert_exporter": "python",
   "pygments_lexer": "ipython3",
   "version": "3.9.7"
  }
 },
 "nbformat": 4,
 "nbformat_minor": 5
}
